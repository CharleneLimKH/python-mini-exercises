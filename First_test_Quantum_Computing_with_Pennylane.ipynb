{
  "nbformat": 4,
  "nbformat_minor": 0,
  "metadata": {
    "colab": {
      "provenance": [],
      "authorship_tag": "ABX9TyMLALN/IgJNiV2HZL//+ZSt",
      "include_colab_link": true
    },
    "kernelspec": {
      "name": "python3",
      "display_name": "Python 3"
    },
    "language_info": {
      "name": "python"
    }
  },
  "cells": [
    {
      "cell_type": "markdown",
      "metadata": {
        "id": "view-in-github",
        "colab_type": "text"
      },
      "source": [
        "<a href=\"https://colab.research.google.com/github/CharleneLimKH/python-mini-projects/blob/main/First_test_Quantum_Computing_with_Pennylane.ipynb\" target=\"_parent\"><img src=\"https://colab.research.google.com/assets/colab-badge.svg\" alt=\"Open In Colab\"/></a>"
      ]
    },
    {
      "cell_type": "code",
      "execution_count": 3,
      "metadata": {
        "colab": {
          "base_uri": "https://localhost:8080/"
        },
        "id": "shtTYbM79KaT",
        "outputId": "86498afb-e6a6-47a1-910a-75f89f8046d7"
      },
      "outputs": [
        {
          "output_type": "stream",
          "name": "stdout",
          "text": [
            "Looking in indexes: https://pypi.org/simple, https://us-python.pkg.dev/colab-wheels/public/simple/\n",
            "Requirement already satisfied: pennylane in /usr/local/lib/python3.7/dist-packages (0.26.0)\n",
            "Requirement already satisfied: retworkx in /usr/local/lib/python3.7/dist-packages (from pennylane) (0.12.0)\n",
            "Requirement already satisfied: networkx in /usr/local/lib/python3.7/dist-packages (from pennylane) (2.6.3)\n",
            "Requirement already satisfied: numpy in /usr/local/lib/python3.7/dist-packages (from pennylane) (1.21.6)\n",
            "Requirement already satisfied: autoray>=0.3.1 in /usr/local/lib/python3.7/dist-packages (from pennylane) (0.3.2)\n",
            "Requirement already satisfied: semantic-version>=2.7 in /usr/local/lib/python3.7/dist-packages (from pennylane) (2.10.0)\n",
            "Requirement already satisfied: toml in /usr/local/lib/python3.7/dist-packages (from pennylane) (0.10.2)\n",
            "Requirement already satisfied: autograd in /usr/local/lib/python3.7/dist-packages (from pennylane) (1.5)\n",
            "Requirement already satisfied: pennylane-lightning>=0.26 in /usr/local/lib/python3.7/dist-packages (from pennylane) (0.26.1)\n",
            "Requirement already satisfied: cachetools in /usr/local/lib/python3.7/dist-packages (from pennylane) (4.2.4)\n",
            "Requirement already satisfied: scipy in /usr/local/lib/python3.7/dist-packages (from pennylane) (1.7.3)\n",
            "Requirement already satisfied: appdirs in /usr/local/lib/python3.7/dist-packages (from pennylane) (1.4.4)\n",
            "Requirement already satisfied: ninja in /usr/local/lib/python3.7/dist-packages (from pennylane-lightning>=0.26->pennylane) (1.10.2.4)\n",
            "Requirement already satisfied: future>=0.15.2 in /usr/local/lib/python3.7/dist-packages (from autograd->pennylane) (0.16.0)\n",
            "Requirement already satisfied: rustworkx==0.12.0 in /usr/local/lib/python3.7/dist-packages (from retworkx->pennylane) (0.12.0)\n"
          ]
        }
      ],
      "source": [
        "!pip install pennylane\n",
        "import pennylane as qml\n",
        "from pennylane import numpy as np"
      ]
    },
    {
      "cell_type": "code",
      "source": [
        "#create device with 1 qubit which samples the measurements 10 times\n",
        "dev1=qml.device(\"default.qubit\", wires=1, shots=10)"
      ],
      "metadata": {
        "id": "mJk9UtqiAa6a"
      },
      "execution_count": 4,
      "outputs": []
    },
    {
      "cell_type": "code",
      "source": [
        "#create a circuit which does the measurement in the computational basis\n",
        "@qml.qnode(dev1)\n",
        "def circuit(params):\n",
        "  return qml.sample(qml.PauliZ(0))"
      ],
      "metadata": {
        "id": "UqGhpek19XrQ"
      },
      "execution_count": 7,
      "outputs": []
    },
    {
      "cell_type": "code",
      "source": [
        "#show result of running this circuit on the device\n",
        "print(circuit([]))"
      ],
      "metadata": {
        "colab": {
          "base_uri": "https://localhost:8080/"
        },
        "id": "s4axBiR1A_rK",
        "outputId": "a2f59d38-e06f-4143-b756-c78a51873200"
      },
      "execution_count": 8,
      "outputs": [
        {
          "output_type": "stream",
          "name": "stdout",
          "text": [
            "[1 1 1 1 1 1 1 1 1 1]\n"
          ]
        }
      ]
    },
    {
      "cell_type": "code",
      "source": [
        "#show graphical visualisation of this circuit\n",
        "drawer=qml.draw(circuit)\n",
        "print(drawer([]))"
      ],
      "metadata": {
        "colab": {
          "base_uri": "https://localhost:8080/"
        },
        "id": "p-KLGVXlCfSI",
        "outputId": "a4fb061c-42e5-40aa-eca5-654e8799b60c"
      },
      "execution_count": 10,
      "outputs": [
        {
          "output_type": "stream",
          "name": "stdout",
          "text": [
            "0: ───┤  Sample[Z]\n"
          ]
        }
      ]
    },
    {
      "cell_type": "code",
      "source": [
        "#Adding PauliX to new circuit\n",
        "#qml.PauliX(wires=0)\n",
        "@qml.qnode(dev1)\n",
        "def circuit1(params):\n",
        "  qml.PauliX(0)\n",
        "  return qml.sample(qml.PauliZ(0))\n",
        " "
      ],
      "metadata": {
        "id": "-1mFvg6kC-8I"
      },
      "execution_count": 22,
      "outputs": []
    },
    {
      "cell_type": "code",
      "source": [
        " print(circuit1([]))"
      ],
      "metadata": {
        "colab": {
          "base_uri": "https://localhost:8080/"
        },
        "id": "Kg6Kcd6mDqCl",
        "outputId": "b2dbeab7-5652-434e-adf1-f6ebb908e9e6"
      },
      "execution_count": 23,
      "outputs": [
        {
          "output_type": "stream",
          "name": "stdout",
          "text": [
            "[-1 -1 -1 -1 -1 -1 -1 -1 -1 -1]\n"
          ]
        }
      ]
    },
    {
      "cell_type": "code",
      "source": [
        "#creating circuit with Hadmard gate\n",
        "@qml.qnode(dev1)\n",
        "def circuit2(params):\n",
        "  qml.Hadamard(0)\n",
        "  return qml.sample(qml.PauliZ(0))"
      ],
      "metadata": {
        "id": "inVT3w5zEZIJ"
      },
      "execution_count": 19,
      "outputs": []
    },
    {
      "cell_type": "code",
      "source": [
        "print(circuit2([]))"
      ],
      "metadata": {
        "colab": {
          "base_uri": "https://localhost:8080/"
        },
        "id": "hCYEuTWlEiTJ",
        "outputId": "cd8b7b7c-19da-41fa-9b64-a670af6fb209"
      },
      "execution_count": 25,
      "outputs": [
        {
          "output_type": "stream",
          "name": "stdout",
          "text": [
            "[ 1 -1 -1  1 -1  1  1  1  1  1]\n"
          ]
        }
      ]
    },
    {
      "cell_type": "code",
      "source": [
        "import matplotlib.pyplot as plt\n",
        "def plotchart(t):\n",
        "  if len(t.shape)==1: #convert 1d tensor to 2d tensor\n",
        "    t=t.reshape(1, len(t))\n",
        "  wireCnt=t.shape[0]\n",
        "  stateCnt=pow(2,wireCnt)\n",
        "  states=np.zeros((wireCnt,stateCnt))\n",
        "  stateStats=np.zeros((stateCnt))\n",
        "  labels=[]\n",
        "  for i in range(stateCnt): #for each state\n",
        "    for j in range(wireCnt): #encode state# in wires\n",
        "      states[j][i]=1 if (i&pow(2,j)) else -1\n",
        "    labels.append(str(states[:,i]))\n",
        "    for j in range(t.shape[1]): #for all measured states\n",
        "      stateStats[i]+=1 if (states[:,i]==t[:,j]).all() else 0\n",
        "  plt.bar(range(stateCnt), stateStats, tick_label=labels)\n",
        "  "
      ],
      "metadata": {
        "id": "YrvIT2ZcFpVA"
      },
      "execution_count": 43,
      "outputs": []
    },
    {
      "cell_type": "code",
      "source": [
        "plotchart(circuit2([]))"
      ],
      "metadata": {
        "colab": {
          "base_uri": "https://localhost:8080/",
          "height": 265
        },
        "id": "Q0aqyg4qHrbQ",
        "outputId": "d0189c04-b57f-4945-ce22-278f5c7b0103"
      },
      "execution_count": 45,
      "outputs": [
        {
          "output_type": "display_data",
          "data": {
            "text/plain": [
              "<Figure size 432x288 with 1 Axes>"
            ],
            "image/png": "[encoded data removed]"
          },
          "metadata": {
            "needs_background": "light"
          }
        }
      ]
    },
    {
      "cell_type": "code",
      "source": [
        "#create device with 2 qubit which samples the measurement 10 times\n",
        "dev2=qml.device(\"default.qubit\", wires=2, shots=10)"
      ],
      "metadata": {
        "id": "kjoRl_0sOCYT"
      },
      "execution_count": 52,
      "outputs": []
    },
    {
      "cell_type": "code",
      "source": [
        "#creating circuit CNOT\n",
        "@qml.qnode(dev2)\n",
        "def circuit3(params):\n",
        "  qml.PauliX(0) #set qubit 0 to |1> #comment and uncomment these two lines as needed\n",
        "  qml.PauliX(1) #set qubit 1 to |1>\n",
        "  qml.CNOT(wires=[0,1])\n",
        "  return qml.sample(qml.PauliZ(0)),qml.sample(qml.PauliZ(1))"
      ],
      "metadata": {
        "id": "TvzBwh23OMhM"
      },
      "execution_count": 58,
      "outputs": []
    },
    {
      "cell_type": "code",
      "source": [
        "print(circuit3([]))"
      ],
      "metadata": {
        "colab": {
          "base_uri": "https://localhost:8080/"
        },
        "id": "hm8ICfA5O0Iz",
        "outputId": "160bb975-1f45-4dbe-dc01-602e94cfd8f0"
      },
      "execution_count": 59,
      "outputs": [
        {
          "output_type": "stream",
          "name": "stdout",
          "text": [
            "[[-1 -1 -1 -1 -1 -1 -1 -1 -1 -1]\n",
            " [ 1  1  1  1  1  1  1  1  1  1]]\n"
          ]
        }
      ]
    },
    {
      "cell_type": "code",
      "source": [
        "plotchart(circuit3([True,True]))"
      ],
      "metadata": {
        "colab": {
          "base_uri": "https://localhost:8080/",
          "height": 265
        },
        "id": "xk-8Hj3WRPYI",
        "outputId": "d9b4896e-09ed-4001-c4aa-4a31c03c1b13"
      },
      "execution_count": 62,
      "outputs": [
        {
          "output_type": "display_data",
          "data": {
            "text/plain": [
              "<Figure size 432x288 with 1 Axes>"
            ],
            "image/png": "[encoded data removed]"
          },
          "metadata": {
            "needs_background": "light"
          }
        }
      ]
    },
    {
      "cell_type": "code",
      "source": [
        "#creating circuit with two Hadmard gates\n",
        "@qml.qnode(dev2)\n",
        "def circuit4(params):\n",
        "  qml.Hadamard(0)\n",
        "  qml.Hadamard(1)\n",
        "  return qml.sample(qml.PauliZ(0)),qml.sample(qml.PauliZ(1))"
      ],
      "metadata": {
        "id": "VsxIw5-hRvbf"
      },
      "execution_count": 67,
      "outputs": []
    },
    {
      "cell_type": "code",
      "source": [
        "(circuit4([True,True]))"
      ],
      "metadata": {
        "colab": {
          "base_uri": "https://localhost:8080/"
        },
        "id": "uAUcPJ41SF1I",
        "outputId": "6e96a74f-b0e3-42fb-d675-c7556edb1bd0"
      },
      "execution_count": 81,
      "outputs": [
        {
          "output_type": "execute_result",
          "data": {
            "text/plain": [
              "tensor([[-1, -1, -1,  1,  1, -1, -1,  1,  1,  1],\n",
              "        [ 1, -1,  1, -1, -1, -1,  1,  1,  1, -1]], requires_grad=True)"
            ]
          },
          "metadata": {},
          "execution_count": 81
        }
      ]
    },
    {
      "cell_type": "code",
      "source": [
        "dev2=qml.device(\"default.qubit\", wires=2, shots=20)\n",
        "plotchart(circuit4([True,True]))"
      ],
      "metadata": {
        "colab": {
          "base_uri": "https://localhost:8080/",
          "height": 265
        },
        "id": "rZt6hk0PSggV",
        "outputId": "7473915e-ff6d-41f6-e094-2521cb4554dd"
      },
      "execution_count": 71,
      "outputs": [
        {
          "output_type": "display_data",
          "data": {
            "text/plain": [
              "<Figure size 432x288 with 1 Axes>"
            ],
            "image/png": "[encoded data removed]"
          },
          "metadata": {
            "needs_background": "light"
          }
        }
      ]
    },
    {
      "cell_type": "code",
      "source": [
        "#creating circuit with Hadmard and CNOT\n",
        "@qml.qnode(dev2)\n",
        "def circuit5(params):\n",
        "  qml.Hadamard(0)\n",
        "  qml.CNOT(wires=[0,1])\n",
        "  return qml.sample(qml.PauliZ(0)),qml.sample(qml.PauliZ(1))"
      ],
      "metadata": {
        "id": "biGiEHwwUsvO"
      },
      "execution_count": 73,
      "outputs": []
    },
    {
      "cell_type": "code",
      "source": [
        "(circuit5([]))"
      ],
      "metadata": {
        "colab": {
          "base_uri": "https://localhost:8080/"
        },
        "id": "GZJLuPPyVFuf",
        "outputId": "0e037dc9-0616-4317-84a6-3a74dd269f2c"
      },
      "execution_count": 80,
      "outputs": [
        {
          "output_type": "execute_result",
          "data": {
            "text/plain": [
              "tensor([[ 1,  1, -1, -1,  1, -1,  1,  1, -1,  1, -1,  1,  1,  1,  1, -1,\n",
              "          1,  1, -1, -1],\n",
              "        [ 1,  1, -1, -1,  1, -1,  1,  1, -1,  1, -1,  1,  1,  1,  1, -1,\n",
              "          1,  1, -1, -1]], requires_grad=True)"
            ]
          },
          "metadata": {},
          "execution_count": 80
        }
      ]
    },
    {
      "cell_type": "code",
      "source": [
        "plotchart(circuit5([True,True]))"
      ],
      "metadata": {
        "colab": {
          "base_uri": "https://localhost:8080/",
          "height": 265
        },
        "id": "Xxv7uekzVIMw",
        "outputId": "ab5edd90-18b8-4d3b-d889-1e0a227a806e"
      },
      "execution_count": 79,
      "outputs": [
        {
          "output_type": "display_data",
          "data": {
            "text/plain": [
              "<Figure size 432x288 with 1 Axes>"
            ],
            "image/png": "[encoded data removed]"
          },
          "metadata": {
            "needs_background": "light"
          }
        }
      ]
    }
  ]
}
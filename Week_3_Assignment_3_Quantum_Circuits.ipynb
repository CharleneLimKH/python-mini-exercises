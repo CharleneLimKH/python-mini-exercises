{
  "nbformat": 4,
  "nbformat_minor": 0,
  "metadata": {
    "colab": {
      "provenance": [],
      "authorship_tag": "ABX9TyMQ/734zi/EXLy7xkieSAp5",
      "include_colab_link": true
    },
    "kernelspec": {
      "name": "python3",
      "display_name": "Python 3"
    },
    "language_info": {
      "name": "python"
    }
  },
  "cells": [
    {
      "cell_type": "markdown",
      "metadata": {
        "id": "view-in-github",
        "colab_type": "text"
      },
      "source": [
        "<a href=\"https://colab.research.google.com/github/CharleneLimKH/python-mini-exercises/blob/main/Week_3_Assignment_3_Quantum_Circuits.ipynb\" target=\"_parent\"><img src=\"https://colab.research.google.com/assets/colab-badge.svg\" alt=\"Open In Colab\"/></a>"
      ]
    },
    {
      "cell_type": "code",
      "source": [
        "! pip install qiskit qiskit-aer"
      ],
      "metadata": {
        "colab": {
          "base_uri": "https://localhost:8080/"
        },
        "id": "yTC0gw4GAf1H",
        "outputId": "84a87272-c64e-48b6-9e9f-a41b5a1150d9"
      },
      "execution_count": 52,
      "outputs": [
        {
          "output_type": "stream",
          "name": "stdout",
          "text": [
            "Requirement already satisfied: qiskit in /usr/local/lib/python3.10/dist-packages (0.44.3)\n",
            "Requirement already satisfied: qiskit-aer in /usr/local/lib/python3.10/dist-packages (0.13.0)\n",
            "Requirement already satisfied: qiskit-terra==0.25.3 in /usr/local/lib/python3.10/dist-packages (from qiskit) (0.25.3)\n",
            "Requirement already satisfied: rustworkx>=0.13.0 in /usr/local/lib/python3.10/dist-packages (from qiskit-terra==0.25.3->qiskit) (0.13.2)\n",
            "Requirement already satisfied: numpy>=1.17 in /usr/local/lib/python3.10/dist-packages (from qiskit-terra==0.25.3->qiskit) (1.23.5)\n",
            "Requirement already satisfied: ply>=3.10 in /usr/local/lib/python3.10/dist-packages (from qiskit-terra==0.25.3->qiskit) (3.11)\n",
            "Requirement already satisfied: psutil>=5 in /usr/local/lib/python3.10/dist-packages (from qiskit-terra==0.25.3->qiskit) (5.9.5)\n",
            "Requirement already satisfied: scipy>=1.5 in /usr/local/lib/python3.10/dist-packages (from qiskit-terra==0.25.3->qiskit) (1.11.3)\n",
            "Requirement already satisfied: sympy>=1.3 in /usr/local/lib/python3.10/dist-packages (from qiskit-terra==0.25.3->qiskit) (1.12)\n",
            "Requirement already satisfied: dill>=0.3 in /usr/local/lib/python3.10/dist-packages (from qiskit-terra==0.25.3->qiskit) (0.3.7)\n",
            "Requirement already satisfied: python-dateutil>=2.8.0 in /usr/local/lib/python3.10/dist-packages (from qiskit-terra==0.25.3->qiskit) (2.8.2)\n",
            "Requirement already satisfied: stevedore>=3.0.0 in /usr/local/lib/python3.10/dist-packages (from qiskit-terra==0.25.3->qiskit) (5.1.0)\n",
            "Requirement already satisfied: symengine<0.10,>=0.9 in /usr/local/lib/python3.10/dist-packages (from qiskit-terra==0.25.3->qiskit) (0.9.2)\n",
            "Requirement already satisfied: typing-extensions in /usr/local/lib/python3.10/dist-packages (from qiskit-terra==0.25.3->qiskit) (4.5.0)\n",
            "Requirement already satisfied: six>=1.5 in /usr/local/lib/python3.10/dist-packages (from python-dateutil>=2.8.0->qiskit-terra==0.25.3->qiskit) (1.16.0)\n",
            "Requirement already satisfied: pbr!=2.1.0,>=2.0.0 in /usr/local/lib/python3.10/dist-packages (from stevedore>=3.0.0->qiskit-terra==0.25.3->qiskit) (5.11.1)\n",
            "Requirement already satisfied: mpmath>=0.19 in /usr/local/lib/python3.10/dist-packages (from sympy>=1.3->qiskit-terra==0.25.3->qiskit) (1.3.0)\n"
          ]
        }
      ]
    },
    {
      "cell_type": "code",
      "execution_count": 53,
      "metadata": {
        "id": "EreXyQr_AJL4"
      },
      "outputs": [],
      "source": [
        "import qiskit\n",
        "from qiskit import QuantumRegister, ClassicalRegister, QuantumCircuit\n",
        "from numpy import pi\n",
        "from qiskit.providers.aer import AerSimulator\n",
        "from qiskit.providers.fake_provider import FakeGuadalupeV2\n",
        "from qiskit_aer.noise import NoiseModel\n",
        "\n",
        "# Fetch backend and noise model\n",
        "fake_device = FakeGuadalupeV2()\n",
        "noise_model = NoiseModel.from_backend(fake_device)\n",
        "\n",
        "\n",
        "\n"
      ]
    },
    {
      "cell_type": "code",
      "source": [
        "qreg_q = QuantumRegister(3, 'q')\n",
        "creg_c = ClassicalRegister(3, 'c')\n",
        "circuit = QuantumCircuit(qreg_q, creg_c)\n",
        "\n",
        "circuit.h(qreg_q[0]) #apply hadamard gate to create entanglement\n",
        "circuit.cx(qreg_q[0], qreg_q[1]) #apply cNot gate on q[0] to create entanglement\n",
        "circuit.cx(qreg_q[1], qreg_q[2])"
      ],
      "metadata": {
        "colab": {
          "base_uri": "https://localhost:8080/"
        },
        "id": "IqrUyuXLFT2I",
        "outputId": "da03e084-8340-40df-83ce-e3f9df599afc"
      },
      "execution_count": 54,
      "outputs": [
        {
          "output_type": "execute_result",
          "data": {
            "text/plain": [
              "<qiskit.circuit.instructionset.InstructionSet at 0x79cbb8703760>"
            ]
          },
          "metadata": {},
          "execution_count": 54
        }
      ]
    },
    {
      "cell_type": "code",
      "source": [
        "%matplotlib inline"
      ],
      "metadata": {
        "id": "GxgZ_kQNB37b"
      },
      "execution_count": 55,
      "outputs": []
    },
    {
      "cell_type": "code",
      "source": [
        "circuit.draw()"
      ],
      "metadata": {
        "colab": {
          "base_uri": "https://localhost:8080/",
          "height": 156
        },
        "id": "21aGl4vnB7Pp",
        "outputId": "e0bf5d96-f22a-4c99-ac15-8ff1be741eb8"
      },
      "execution_count": 66,
      "outputs": [
        {
          "output_type": "execute_result",
          "data": {
            "text/plain": [
              "     ┌───┐          ┌─┐      \n",
              "q_0: ┤ H ├──■───────┤M├──────\n",
              "     └───┘┌─┴─┐     └╥┘┌─┐   \n",
              "q_1: ─────┤ X ├──■───╫─┤M├───\n",
              "          └───┘┌─┴─┐ ║ └╥┘┌─┐\n",
              "q_2: ──────────┤ X ├─╫──╫─┤M├\n",
              "               └───┘ ║  ║ └╥┘\n",
              "c: 3/════════════════╩══╩══╩═\n",
              "                     0  1  2 "
            ],
            "text/html": [
              "<pre style=\"word-wrap: normal;white-space: pre;background: #fff0;line-height: 1.1;font-family: &quot;Courier New&quot;,Courier,monospace\">     ┌───┐          ┌─┐      \n",
              "q_0: ┤ H ├──■───────┤M├──────\n",
              "     └───┘┌─┴─┐     └╥┘┌─┐   \n",
              "q_1: ─────┤ X ├──■───╫─┤M├───\n",
              "          └───┘┌─┴─┐ ║ └╥┘┌─┐\n",
              "q_2: ──────────┤ X ├─╫──╫─┤M├\n",
              "               └───┘ ║  ║ └╥┘\n",
              "c: 3/════════════════╩══╩══╩═\n",
              "                     0  1  2 </pre>"
            ]
          },
          "metadata": {},
          "execution_count": 66
        }
      ]
    },
    {
      "cell_type": "code",
      "source": [
        "circuit.measure(qreg_q, creg_c) #measure qubit in quantim register and store them in classical register"
      ],
      "metadata": {
        "colab": {
          "base_uri": "https://localhost:8080/"
        },
        "id": "HJ806KTXAqtA",
        "outputId": "ed26bc08-f4d9-4b7d-a2c7-ede0db9c663f"
      },
      "execution_count": 60,
      "outputs": [
        {
          "output_type": "execute_result",
          "data": {
            "text/plain": [
              "<qiskit.circuit.instructionset.InstructionSet at 0x79cbbb3cc550>"
            ]
          },
          "metadata": {},
          "execution_count": 60
        }
      ]
    },
    {
      "cell_type": "code",
      "source": [
        "simulator = AerSimulator(noise_model=noise_model) #simulation of quantum circuit in classical computer"
      ],
      "metadata": {
        "id": "H4K4SgvMBosN"
      },
      "execution_count": 61,
      "outputs": []
    },
    {
      "cell_type": "code",
      "source": [
        "from qiskit.execute_function import execute\n",
        "result = execute(circuit, backend = simulator).result()\n"
      ],
      "metadata": {
        "id": "noIsOJP0GC40"
      },
      "execution_count": 64,
      "outputs": []
    },
    {
      "cell_type": "code",
      "source": [
        "from qiskit.primitives.backend_sampler import BackendSampler #get code from https://qiskit.org/documentation/how_to/use_sampler.html\n",
        "from qiskit.primitives import Sampler\n",
        "sampler = BackendSampler(simulator)\n",
        "job = sampler.run(circuit)\n",
        "result = job.result()\n",
        "print(result)\n"
      ],
      "metadata": {
        "colab": {
          "base_uri": "https://localhost:8080/"
        },
        "id": "wq7UO48bV_a1",
        "outputId": "4bbe28e4-74b4-4b1d-d7dc-dfbb248874f4"
      },
      "execution_count": 71,
      "outputs": [
        {
          "output_type": "stream",
          "name": "stdout",
          "text": [
            "SamplerResult(quasi_dists=[{6: 0.0087890625, 4: 0.0078125, 5: 0.017578125, 1: 0.017578125, 3: 0.0078125, 7: 0.4599609375, 2: 0.0078125, 0: 0.47265625}], metadata=[{'shots': 1024}])\n"
          ]
        }
      ]
    },
    {
      "cell_type": "code",
      "source": [
        "quasi_dist = result.quasi_dists[0]\n",
        "print(quasi_dist)"
      ],
      "metadata": {
        "colab": {
          "base_uri": "https://localhost:8080/"
        },
        "id": "98YhL9gRWwiU",
        "outputId": "e0ed2e2a-c5e3-42c6-c8a3-ccbcda932029"
      },
      "execution_count": 72,
      "outputs": [
        {
          "output_type": "stream",
          "name": "stdout",
          "text": [
            "{6: 0.0087890625, 4: 0.0078125, 5: 0.017578125, 1: 0.017578125, 3: 0.0078125, 7: 0.4599609375, 2: 0.0078125, 0: 0.47265625}\n"
          ]
        }
      ]
    },
    {
      "cell_type": "code",
      "source": [
        "from qiskit.tools.visualization import plot_histogram"
      ],
      "metadata": {
        "id": "RtaExJQIHH-a"
      },
      "execution_count": 48,
      "outputs": []
    },
    {
      "cell_type": "code",
      "source": [
        "plot_histogram(quasi_dist.binary_probabilities())"
      ],
      "metadata": {
        "colab": {
          "base_uri": "https://localhost:8080/",
          "height": 473
        },
        "id": "cPTlqbDWW-nJ",
        "outputId": "e89d8a81-2056-409b-b86b-9374bcf82358"
      },
      "execution_count": 74,
      "outputs": [
        {
          "output_type": "execute_result",
          "data": {
            "text/plain": [
              "<Figure size 700x500 with 1 Axes>"
            ],
            "image/png": "[encoded data removed]"
          },
          "metadata": {},
          "execution_count": 74
        }
      ]
    },
    {
      "cell_type": "code",
      "source": [
        "#plot_histogram(result.get_counts(circuit))"
      ],
      "metadata": {
        "id": "WuQuzkogHZqv"
      },
      "execution_count": null,
      "outputs": []
    }
  ]
}